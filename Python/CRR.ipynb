{
 "cells": [
  {
   "cell_type": "code",
   "execution_count": 1,
   "metadata": {},
   "outputs": [],
   "source": [
    "import numpy as np\n",
    "import matplotlib.pyplot as plt\n",
    "import seaborn as sns\n",
    "plt.style.use('seaborn-whitegrid')\n",
    "plt.rcParams['figure.figsize']=(10,8)\n",
    "import scipy.stats as stats\n",
    "plt.rc('axes', labelsize=15)"
   ]
  },
  {
   "cell_type": "code",
   "execution_count": 2,
   "metadata": {},
   "outputs": [],
   "source": [
    "class CRR:\n",
    "\n",
    "    def __init__(self, S_0, K, T, r, sigma):\n",
    "        self.S_0 = S_0\n",
    "        self.K = K\n",
    "        self.T = T\n",
    "        self.r  = r\n",
    "        self.sigma  = sigma\n",
    "        return None\n",
    "\n",
    "    def Price(self, M, otype='Call'):\n",
    "        delta = self.T / M # length of intervals\n",
    "        df = np.exp(-self.r*delta) # Discount factor per interval\n",
    "\n",
    "        u = np.exp(self.sigma*np.sqrt(delta))\n",
    "        d = 1 / u\n",
    "        if ((self.sigma / np.sqrt(delta)) <= self.r or self.r <= -(self.sigma / np.sqrt(delta)) ):\n",
    "            print('Arbitrage Exists !!')\n",
    "        else :\n",
    "            q = (np.exp(self.r*delta) - d) / (u - d)\n",
    "            idx = np.arange(M+1)\n",
    "            S_T = self.S_0 * (u**idx) * (d**(M - idx))\n",
    "\n",
    "            if otype == 'Call':\n",
    "                V = np.maximum(S_T - self.K, 0.0)\n",
    "            if otype == 'Put':\n",
    "                V = np.maximum(self.K - S_T, 0.0)\n",
    "\n",
    "        \n",
    "            for t in range(M-1, -1, -1):\n",
    "                for i in range(t):\n",
    "                    V[i] = (q*V[i+1] + (1-q)*V[i])*df\n",
    "            return V[0]\n",
    "\n",
    "    def PlotConvergence(self, Mmin, Mmax, step_size, otype='Call'):\n",
    "         m = np.arange(Mmin, Mmax, step_size)\n",
    "         payoff = [self.Price(M,otype=otype) for M in m]\n",
    "         plt.plot(m, payoff, color='darkred', label=otype + 'Payoff')\n",
    "         plt.legend(prop={'weight':'bold'})\n",
    "         plt.title(otype + ' Payoff Vs Number of trading days', fontdict={'size':20, 'weight':'bold'})\n",
    "         plt.xlabel(r'$k_n$')\n",
    "         plt.ylabel(r'$\\pi_n^C(0)$')\n",
    "         \n",
    "    def BSM(self, otype='Call'):\n",
    "         d_1 = (np.log(self.S_0 / self.K) + (self.r + ((self.sigma)**2)/2)*self.T) / (self.sigma * np.sqrt(self.T))\n",
    "         d_2 = d_1 - self.sigma * np.sqrt(self.T)\n",
    "         df = np.exp(-self.r * self.T)\n",
    "         C_payoff = self.S_0*stats.norm.cdf(d_1) - self.K*df*stats.norm.cdf(d_2)\n",
    "         if otype == 'Call':\n",
    "             return C_payoff\n",
    "         if otype =='Put':\n",
    "             return C_payoff - self.S_0 + self.K * df    "
   ]
  },
  {
   "cell_type": "code",
   "execution_count": 3,
   "metadata": {},
   "outputs": [],
   "source": [
    "crr = CRR(S_0 = 1, K = 0.2, T = 1.0, r = 0.05, sigma = 0.2)"
   ]
  },
  {
   "cell_type": "code",
   "execution_count": 4,
   "metadata": {},
   "outputs": [
    {
     "data": {
      "text/plain": [
       "0.8097541150998572"
      ]
     },
     "execution_count": 4,
     "metadata": {},
     "output_type": "execute_result"
    }
   ],
   "source": [
    "crr.BSM(otype = 'Call')"
   ]
  },
  {
   "cell_type": "code",
   "execution_count": 5,
   "metadata": {},
   "outputs": [
    {
     "data": {
      "text/plain": [
       "5.573526022256971"
      ]
     },
     "execution_count": 5,
     "metadata": {},
     "output_type": "execute_result"
    }
   ],
   "source": [
    "crr.BSM(otype='Put')"
   ]
  },
  {
   "cell_type": "code",
   "execution_count": 6,
   "metadata": {},
   "outputs": [
    {
     "data": {
      "image/png": "[encoded data removed]",
      "text/plain": [
       "<Figure size 720x576 with 1 Axes>"
      ]
     },
     "metadata": {},
     "output_type": "display_data"
    }
   ],
   "source": [
    "plt.axhline(crr.BSM(), color='black', linestyle='dashed', label='BSM')\n",
    "crr.PlotConvergence(2,1000, 10)\n",
    "#plt.savefig('./BSCRR.pdf', format='pdf', dpi=400)"
   ]
  },
  {
   "cell_type": "code",
   "execution_count": null,
   "metadata": {},
   "outputs": [],
   "source": []
  }
 ],
 "metadata": {
  "interpreter": {
   "hash": "dca0ade3e726a953b501b15e8e990130d2b7799f14cfd9f4271676035ebe5511"
  },
  "kernelspec": {
   "display_name": "Python 3.8.8 64-bit",
   "name": "python3"
  },
  "language_info": {
   "codemirror_mode": {
    "name": "ipython",
    "version": 3
   },
   "file_extension": ".py",
   "mimetype": "text/x-python",
   "name": "python",
   "nbconvert_exporter": "python",
   "pygments_lexer": "ipython3",
   "version": "3.8.8"
  }
 },
 "nbformat": 4,
 "nbformat_minor": 2
}
